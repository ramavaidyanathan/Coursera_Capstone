{
 "cells": [
  {
   "cell_type": "markdown",
   "metadata": {},
   "source": [
    "## Battle Of Neighborhood: Week-4\n"
   ]
  },
  {
   "cell_type": "markdown",
   "metadata": {},
   "source": [
    "### Background and Problem Statement"
   ]
  },
  {
   "cell_type": "markdown",
   "metadata": {},
   "source": [
    "Toronto is the most populous city in Canada with a population close to 3 million. It is a diverse and multicultural city with a large Indian community. Toronto has a vibrant food scene with Indian cuisine being very popular."
   ]
  },
  {
   "cell_type": "markdown",
   "metadata": {},
   "source": [
    "Joy Foods Pvt Limited has been successfully running a chain of high quality Indian restaurants in the US. They wish to tap in to the growing market in Canada and have identified Toronto to be their first location for opening a new Indian restaurant. The restaurant business in Toronto is quite competitive and location is key to success of the business. Hence, the company has hired RV Data Analytics firm to analyze the Indian restaurants in Toronto and recommend the best location to open a high quality Indian restaurant."
   ]
  },
  {
   "cell_type": "markdown",
   "metadata": {},
   "source": [
    "### Data and Approach"
   ]
  },
  {
   "cell_type": "markdown",
   "metadata": {},
   "source": [
    "#### For performing this analysis, RV Data Analytics will use the following data:    "
   ]
  },
  {
   "cell_type": "markdown",
   "metadata": {},
   "source": [
    "1. Description of Toronto boroughs and neighborhoods from the website ('https://en.wikipedia.org/wiki/List_of_postal_codes_of_Canada:_M')   "
   ]
  },
  {
   "cell_type": "markdown",
   "metadata": {},
   "source": [
    " 2. Latitude and longitude of the neighborhoods using Geocoder    "
   ]
  },
  {
   "cell_type": "markdown",
   "metadata": {},
   "source": [
    "3. Details of Indian Restaurants in each neighborhood using FoUrsquare API"
   ]
  },
  {
   "cell_type": "markdown",
   "metadata": {},
   "source": [
    "#### The following approach will be adopted for the analysis"
   ]
  },
  {
   "cell_type": "markdown",
   "metadata": {},
   "source": [
    "1. Collect borough, neighborhood, latitude, longitude data"
   ]
  },
  {
   "cell_type": "code",
   "execution_count": null,
   "metadata": {},
   "outputs": [],
   "source": [
    "2. Using FourSquare API, find all venues for each neighborhood\n",
    "3. Filter venues for Indian Resturants.\n",
    "4. Determine total number of Indian restaurants in Toronto and count them by borough\n",
    "5. Find rating , tips and like count for each Indian Resturants using FourSquare API\n",
    "6. Identify best Indian restaurant in Toronto\n",
    "7. Analyze ratings data\n",
    "5. Using rating for each resturant , we will sort that data.\n",
    "Visualize the Ranking of neighborhoods using folium library(python)"
   ]
  }
 ],
 "metadata": {
  "kernelspec": {
   "display_name": "Python",
   "language": "python",
   "name": "conda-env-python-py"
  },
  "language_info": {
   "codemirror_mode": {
    "name": "ipython",
    "version": 3
   },
   "file_extension": ".py",
   "mimetype": "text/x-python",
   "name": "python",
   "nbconvert_exporter": "python",
   "pygments_lexer": "ipython3",
   "version": "3.6.7"
  }
 },
 "nbformat": 4,
 "nbformat_minor": 4
}
